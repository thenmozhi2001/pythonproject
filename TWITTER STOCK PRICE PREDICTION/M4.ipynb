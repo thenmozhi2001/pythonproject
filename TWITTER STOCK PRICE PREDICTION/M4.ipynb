{
 "cells": [
  {
   "cell_type": "markdown",
   "id": "c9b549bc",
   "metadata": {},
   "source": [
    "### Ridge Regressor"
   ]
  },
  {
   "cell_type": "code",
   "execution_count": 1,
   "id": "990cbd8e",
   "metadata": {},
   "outputs": [],
   "source": [
    "import warnings\n",
    "warnings.filterwarnings('ignore')"
   ]
  },
  {
   "cell_type": "code",
   "execution_count": 12,
   "id": "151ec699",
   "metadata": {},
   "outputs": [],
   "source": [
    "import pandas as pd\n",
    "import numpy as np\n",
    "from sklearn.linear_model import Ridge"
   ]
  },
  {
   "cell_type": "code",
   "execution_count": 13,
   "id": "a05881fd",
   "metadata": {},
   "outputs": [],
   "source": [
    "data=pd.read_csv('twitter-stocks.csv')"
   ]
  },
  {
   "cell_type": "markdown",
   "id": "99455d87",
   "metadata": {},
   "source": [
    "### Data Set"
   ]
  },
  {
   "cell_type": "code",
   "execution_count": 14,
   "id": "5b2540cf",
   "metadata": {},
   "outputs": [
    {
     "data": {
      "text/html": [
       "<div>\n",
       "<style scoped>\n",
       "    .dataframe tbody tr th:only-of-type {\n",
       "        vertical-align: middle;\n",
       "    }\n",
       "\n",
       "    .dataframe tbody tr th {\n",
       "        vertical-align: top;\n",
       "    }\n",
       "\n",
       "    .dataframe thead th {\n",
       "        text-align: right;\n",
       "    }\n",
       "</style>\n",
       "<table border=\"1\" class=\"dataframe\">\n",
       "  <thead>\n",
       "    <tr style=\"text-align: right;\">\n",
       "      <th></th>\n",
       "      <th>Date</th>\n",
       "      <th>Open</th>\n",
       "      <th>High</th>\n",
       "      <th>Low</th>\n",
       "      <th>Close</th>\n",
       "      <th>Adj Close</th>\n",
       "      <th>Volume</th>\n",
       "    </tr>\n",
       "  </thead>\n",
       "  <tbody>\n",
       "    <tr>\n",
       "      <th>0</th>\n",
       "      <td>2013-11-07</td>\n",
       "      <td>45.099998</td>\n",
       "      <td>50.090000</td>\n",
       "      <td>44.000000</td>\n",
       "      <td>44.900002</td>\n",
       "      <td>44.900002</td>\n",
       "      <td>117701670.0</td>\n",
       "    </tr>\n",
       "    <tr>\n",
       "      <th>1</th>\n",
       "      <td>2013-11-08</td>\n",
       "      <td>45.930000</td>\n",
       "      <td>46.939999</td>\n",
       "      <td>40.685001</td>\n",
       "      <td>41.650002</td>\n",
       "      <td>41.650002</td>\n",
       "      <td>27925307.0</td>\n",
       "    </tr>\n",
       "    <tr>\n",
       "      <th>2</th>\n",
       "      <td>2013-11-11</td>\n",
       "      <td>40.500000</td>\n",
       "      <td>43.000000</td>\n",
       "      <td>39.400002</td>\n",
       "      <td>42.900002</td>\n",
       "      <td>42.900002</td>\n",
       "      <td>16113941.0</td>\n",
       "    </tr>\n",
       "    <tr>\n",
       "      <th>3</th>\n",
       "      <td>2013-11-12</td>\n",
       "      <td>43.660000</td>\n",
       "      <td>43.779999</td>\n",
       "      <td>41.830002</td>\n",
       "      <td>41.900002</td>\n",
       "      <td>41.900002</td>\n",
       "      <td>6316755.0</td>\n",
       "    </tr>\n",
       "    <tr>\n",
       "      <th>4</th>\n",
       "      <td>2013-11-13</td>\n",
       "      <td>41.029999</td>\n",
       "      <td>42.869999</td>\n",
       "      <td>40.759998</td>\n",
       "      <td>42.599998</td>\n",
       "      <td>42.599998</td>\n",
       "      <td>8688325.0</td>\n",
       "    </tr>\n",
       "  </tbody>\n",
       "</table>\n",
       "</div>"
      ],
      "text/plain": [
       "         Date       Open       High        Low      Close  Adj Close  \\\n",
       "0  2013-11-07  45.099998  50.090000  44.000000  44.900002  44.900002   \n",
       "1  2013-11-08  45.930000  46.939999  40.685001  41.650002  41.650002   \n",
       "2  2013-11-11  40.500000  43.000000  39.400002  42.900002  42.900002   \n",
       "3  2013-11-12  43.660000  43.779999  41.830002  41.900002  41.900002   \n",
       "4  2013-11-13  41.029999  42.869999  40.759998  42.599998  42.599998   \n",
       "\n",
       "        Volume  \n",
       "0  117701670.0  \n",
       "1   27925307.0  \n",
       "2   16113941.0  \n",
       "3    6316755.0  \n",
       "4    8688325.0  "
      ]
     },
     "execution_count": 14,
     "metadata": {},
     "output_type": "execute_result"
    }
   ],
   "source": [
    "data.head()"
   ]
  },
  {
   "cell_type": "markdown",
   "id": "a979e92d",
   "metadata": {},
   "source": [
    "### Selecting The Dataset Parameters"
   ]
  },
  {
   "cell_type": "code",
   "execution_count": 15,
   "id": "6c9dc018",
   "metadata": {},
   "outputs": [],
   "source": [
    "features=['Open','High','Low','Volume','Adj Close']\n",
    "target=['Close']"
   ]
  },
  {
   "cell_type": "markdown",
   "id": "568f6634",
   "metadata": {},
   "source": [
    "### Importing train_test_split from model_selection"
   ]
  },
  {
   "cell_type": "code",
   "execution_count": 16,
   "id": "d6921f00",
   "metadata": {},
   "outputs": [],
   "source": [
    "from sklearn.model_selection import train_test_split\n",
    "from sklearn.metrics import explained_variance_score"
   ]
  },
  {
   "cell_type": "code",
   "execution_count": 17,
   "id": "02c792f3",
   "metadata": {},
   "outputs": [],
   "source": [
    "x=data[features]\n",
    "y=data[target]"
   ]
  },
  {
   "cell_type": "markdown",
   "id": "a083af75",
   "metadata": {},
   "source": [
    "### Splitting"
   ]
  },
  {
   "cell_type": "code",
   "execution_count": 18,
   "id": "4f004609",
   "metadata": {},
   "outputs": [],
   "source": [
    "x_train, x_test, y_train, y_test = train_test_split(x, y, test_size=0.3, random_state=32, shuffle=True )\n"
   ]
  },
  {
   "cell_type": "markdown",
   "id": "a78bcc18",
   "metadata": {},
   "source": [
    "### Importing tests "
   ]
  },
  {
   "cell_type": "code",
   "execution_count": 19,
   "id": "d1a19160",
   "metadata": {},
   "outputs": [],
   "source": [
    "from sklearn.metrics import mean_absolute_error, mean_squared_error, r2_score, median_absolute_error\n",
    "from math import sqrt"
   ]
  },
  {
   "cell_type": "code",
   "execution_count": 20,
   "id": "b1f0dca5",
   "metadata": {},
   "outputs": [
    {
     "data": {
      "text/plain": [
       "Ridge()"
      ]
     },
     "execution_count": 20,
     "metadata": {},
     "output_type": "execute_result"
    }
   ],
   "source": [
    "RR=Ridge()\n",
    "RR.fit(x_train, y_train, )"
   ]
  },
  {
   "cell_type": "code",
   "execution_count": 21,
   "id": "55bcdc75",
   "metadata": {},
   "outputs": [],
   "source": [
    "y_prediction = RR.predict(x_test)"
   ]
  },
  {
   "cell_type": "markdown",
   "id": "b1af99ad",
   "metadata": {},
   "source": [
    "### Mean Absolute Error"
   ]
  },
  {
   "cell_type": "code",
   "execution_count": 22,
   "id": "fff0557d",
   "metadata": {},
   "outputs": [
    {
     "name": "stdout",
     "output_type": "stream",
     "text": [
      "mean_absolute_error is  0.0009899014171561595\n"
     ]
    }
   ],
   "source": [
    "MAE= mean_absolute_error(y_test,y_prediction)\n",
    "print('mean_absolute_error is ',MAE)"
   ]
  },
  {
   "cell_type": "markdown",
   "id": "e3e1ba51",
   "metadata": {},
   "source": [
    "### Mean Squared Error"
   ]
  },
  {
   "cell_type": "code",
   "execution_count": 23,
   "id": "4ce0e430",
   "metadata": {},
   "outputs": [
    {
     "name": "stdout",
     "output_type": "stream",
     "text": [
      "2.1512061454511132e-06\n"
     ]
    }
   ],
   "source": [
    "MSE = mean_squared_error(y_test,y_prediction)\n",
    "print(MSE)"
   ]
  },
  {
   "cell_type": "markdown",
   "id": "0e638ca3",
   "metadata": {},
   "source": [
    "### Root Mean Square Error"
   ]
  },
  {
   "cell_type": "code",
   "execution_count": 24,
   "id": "02e143ad",
   "metadata": {},
   "outputs": [
    {
     "name": "stdout",
     "output_type": "stream",
     "text": [
      "0.0014666990643792998\n"
     ]
    }
   ],
   "source": [
    "RMSE=sqrt(MSE)\n",
    "print(RMSE)"
   ]
  },
  {
   "cell_type": "markdown",
   "id": "1daef8e2",
   "metadata": {},
   "source": [
    "### Median absolute Error"
   ]
  },
  {
   "cell_type": "code",
   "execution_count": 25,
   "id": "06fd3684",
   "metadata": {},
   "outputs": [
    {
     "name": "stdout",
     "output_type": "stream",
     "text": [
      "0.0006741593792227718\n"
     ]
    }
   ],
   "source": [
    "MeAE=median_absolute_error(y_test,y_prediction)\n",
    "print(MeAE)"
   ]
  },
  {
   "cell_type": "markdown",
   "id": "669a80ea",
   "metadata": {},
   "source": [
    "### R-Squared Score"
   ]
  },
  {
   "cell_type": "code",
   "execution_count": 26,
   "id": "85bbfef5",
   "metadata": {},
   "outputs": [
    {
     "name": "stdout",
     "output_type": "stream",
     "text": [
      "0.9999999884363221\n"
     ]
    }
   ],
   "source": [
    "R_squared=r2_score(y_test,y_prediction)\n",
    "print(R_squared)"
   ]
  },
  {
   "cell_type": "markdown",
   "id": "19cd74ac",
   "metadata": {},
   "source": [
    "### Explained Variance Score"
   ]
  },
  {
   "cell_type": "code",
   "execution_count": 27,
   "id": "b03a50ea",
   "metadata": {},
   "outputs": [
    {
     "data": {
      "text/plain": [
       "0.9999999884367642"
      ]
     },
     "execution_count": 27,
     "metadata": {},
     "output_type": "execute_result"
    }
   ],
   "source": [
    "explained_variance_score(y_test,y_prediction)"
   ]
  },
  {
   "cell_type": "code",
   "execution_count": null,
   "id": "219d5889",
   "metadata": {},
   "outputs": [],
   "source": []
  }
 ],
 "metadata": {
  "kernelspec": {
   "display_name": "Python 3 (ipykernel)",
   "language": "python",
   "name": "python3"
  },
  "language_info": {
   "codemirror_mode": {
    "name": "ipython",
    "version": 3
   },
   "file_extension": ".py",
   "mimetype": "text/x-python",
   "name": "python",
   "nbconvert_exporter": "python",
   "pygments_lexer": "ipython3",
   "version": "3.7.13"
  }
 },
 "nbformat": 4,
 "nbformat_minor": 5
}
